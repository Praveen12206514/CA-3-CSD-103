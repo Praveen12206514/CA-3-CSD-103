{
 "cells": [
  {
   "cell_type": "code",
   "execution_count": 25,
   "id": "94aaadaf",
   "metadata": {},
   "outputs": [],
   "source": [
    "import numpy as np\n",
    "import pandas as pd\n",
    "import matplotlib.pyplot as plt\n",
    "import seaborn as sns"
   ]
  },
  {
   "cell_type": "code",
   "execution_count": 26,
   "id": "8db8675d",
   "metadata": {},
   "outputs": [],
   "source": [
    "data=pd.read_csv(r\"C:\\Users\\tumma\\Downloads\\E commerce\\E-commerce Customer Behavior - Sheet1.csv\")"
   ]
  },
  {
   "cell_type": "code",
   "execution_count": 27,
   "id": "503a12d2",
   "metadata": {},
   "outputs": [
    {
     "data": {
      "text/html": [
       "<div>\n",
       "<style scoped>\n",
       "    .dataframe tbody tr th:only-of-type {\n",
       "        vertical-align: middle;\n",
       "    }\n",
       "\n",
       "    .dataframe tbody tr th {\n",
       "        vertical-align: top;\n",
       "    }\n",
       "\n",
       "    .dataframe thead th {\n",
       "        text-align: right;\n",
       "    }\n",
       "</style>\n",
       "<table border=\"1\" class=\"dataframe\">\n",
       "  <thead>\n",
       "    <tr style=\"text-align: right;\">\n",
       "      <th></th>\n",
       "      <th>Customer ID</th>\n",
       "      <th>Gender</th>\n",
       "      <th>Age</th>\n",
       "      <th>City</th>\n",
       "      <th>Membership Type</th>\n",
       "      <th>Total Spend</th>\n",
       "      <th>Items Purchased</th>\n",
       "      <th>Average Rating</th>\n",
       "      <th>Discount Applied</th>\n",
       "      <th>Days Since Last Purchase</th>\n",
       "      <th>Satisfaction Level</th>\n",
       "    </tr>\n",
       "  </thead>\n",
       "  <tbody>\n",
       "    <tr>\n",
       "      <th>0</th>\n",
       "      <td>101</td>\n",
       "      <td>Female</td>\n",
       "      <td>29</td>\n",
       "      <td>New York</td>\n",
       "      <td>Gold</td>\n",
       "      <td>1120.20</td>\n",
       "      <td>14</td>\n",
       "      <td>4.6</td>\n",
       "      <td>True</td>\n",
       "      <td>25</td>\n",
       "      <td>Satisfied</td>\n",
       "    </tr>\n",
       "    <tr>\n",
       "      <th>1</th>\n",
       "      <td>102</td>\n",
       "      <td>Male</td>\n",
       "      <td>34</td>\n",
       "      <td>Los Angeles</td>\n",
       "      <td>Silver</td>\n",
       "      <td>780.50</td>\n",
       "      <td>11</td>\n",
       "      <td>4.1</td>\n",
       "      <td>False</td>\n",
       "      <td>18</td>\n",
       "      <td>Neutral</td>\n",
       "    </tr>\n",
       "    <tr>\n",
       "      <th>2</th>\n",
       "      <td>103</td>\n",
       "      <td>Female</td>\n",
       "      <td>43</td>\n",
       "      <td>Chicago</td>\n",
       "      <td>Bronze</td>\n",
       "      <td>510.75</td>\n",
       "      <td>9</td>\n",
       "      <td>3.4</td>\n",
       "      <td>True</td>\n",
       "      <td>42</td>\n",
       "      <td>Unsatisfied</td>\n",
       "    </tr>\n",
       "    <tr>\n",
       "      <th>3</th>\n",
       "      <td>104</td>\n",
       "      <td>Male</td>\n",
       "      <td>30</td>\n",
       "      <td>San Francisco</td>\n",
       "      <td>Gold</td>\n",
       "      <td>1480.30</td>\n",
       "      <td>19</td>\n",
       "      <td>4.7</td>\n",
       "      <td>False</td>\n",
       "      <td>12</td>\n",
       "      <td>Satisfied</td>\n",
       "    </tr>\n",
       "  </tbody>\n",
       "</table>\n",
       "</div>"
      ],
      "text/plain": [
       "   Customer ID  Gender  Age           City Membership Type  Total Spend  \\\n",
       "0          101  Female   29       New York            Gold      1120.20   \n",
       "1          102    Male   34    Los Angeles          Silver       780.50   \n",
       "2          103  Female   43        Chicago          Bronze       510.75   \n",
       "3          104    Male   30  San Francisco            Gold      1480.30   \n",
       "\n",
       "   Items Purchased  Average Rating  Discount Applied  \\\n",
       "0               14             4.6              True   \n",
       "1               11             4.1             False   \n",
       "2                9             3.4              True   \n",
       "3               19             4.7             False   \n",
       "\n",
       "   Days Since Last Purchase Satisfaction Level  \n",
       "0                        25          Satisfied  \n",
       "1                        18            Neutral  \n",
       "2                        42        Unsatisfied  \n",
       "3                        12          Satisfied  "
      ]
     },
     "execution_count": 27,
     "metadata": {},
     "output_type": "execute_result"
    }
   ],
   "source": [
    "data.head(4)"
   ]
  },
  {
   "cell_type": "code",
   "execution_count": 28,
   "id": "b94d0a36",
   "metadata": {},
   "outputs": [
    {
     "data": {
      "image/png": "[encoded data removed]",
      "text/plain": [
       "<Figure size 432x288 with 1 Axes>"
      ]
     },
     "metadata": {
      "needs_background": "light"
     },
     "output_type": "display_data"
    }
   ],
   "source": [
    "customer_ids = [101, 102, 103, 104]\n",
    "total_spend = [1120.20, 780.50, 510.75, 1480.30]\n",
    "items_purchased = [14, 11, 9, 19]\n",
    "average_rating = [4.6, 4.1, 3.4, 4.7]\n",
    "discount_applied = [True, False, True, False]\n",
    "days_since_last_purchase = [25, 18, 42, 12]\n",
    "plt.bar(customer_ids, total_spend, color='blue', label='Total Spend')\n",
    "plt.xlabel('Customer ID')\n",
    "plt.ylabel('Total Spend ($)')\n",
    "plt.title('Total Spend by Customer')\n",
    "plt.legend()\n",
    "plt.show()"
   ]
  },
  {
   "cell_type": "code",
   "execution_count": 29,
   "id": "539bb190",
   "metadata": {},
   "outputs": [
    {
     "data": {
      "image/png": "[encoded data removed]",
      "text/plain": [
       "<Figure size 432x288 with 1 Axes>"
      ]
     },
     "metadata": {
      "needs_background": "light"
     },
     "output_type": "display_data"
    }
   ],
   "source": [
    "customer_ids = [101, 102, 103, 104]\n",
    "total_spend = [1120.20, 780.50, 510.75, 1480.30]\n",
    "items_purchased = [14, 11, 9, 19]\n",
    "average_rating = [4.6, 4.1, 3.4, 4.7]\n",
    "discount_applied = [True, False, True, False]\n",
    "days_since_last_purchase = [25, 18, 42, 12]\n",
    "plt.plot(customer_ids, average_rating, marker='o', linestyle='-', color='orange', label='Average Rating')\n",
    "plt.xlabel('Customer ID')\n",
    "plt.ylabel('Average Rating')\n",
    "plt.title('Average Rating by Customer')\n",
    "plt.legend()\n",
    "plt.show()"
   ]
  },
  {
   "cell_type": "code",
   "execution_count": 30,
   "id": "991729f3",
   "metadata": {},
   "outputs": [
    {
     "data": {
      "image/png": "[encoded data removed]",
      "text/plain": [
       "<Figure size 432x288 with 1 Axes>"
      ]
     },
     "metadata": {
      "needs_background": "light"
     },
     "output_type": "display_data"
    }
   ],
   "source": [
    "customer_ids = [101, 102, 103, 104]\n",
    "total_spend = [1120.20, 780.50, 510.75, 1480.30]\n",
    "items_purchased = [14, 11, 9, 19]\n",
    "average_rating = [4.6, 4.1, 3.4, 4.7]\n",
    "discount_applied = [True, False, True, False]\n",
    "days_since_last_purchase = [25, 18, 42, 12]\n",
    "plt.scatter(total_spend, items_purchased, color='blue', label='Total Spend vs. Items Purchased', marker='o')\n",
    "plt.xlabel('Total Spend ($)')\n",
    "plt.ylabel('Items Purchased')\n",
    "plt.title('Scatter Plot: Total Spend vs. Items Purchased')\n",
    "plt.legend()\n",
    "plt.show()"
   ]
  },
  {
   "cell_type": "code",
   "execution_count": 31,
   "id": "6761775d",
   "metadata": {},
   "outputs": [
    {
     "data": {
      "image/png": "[encoded data removed]",
      "text/plain": [
       "<Figure size 432x288 with 1 Axes>"
      ]
     },
     "metadata": {
      "needs_background": "light"
     },
     "output_type": "display_data"
    }
   ],
   "source": [
    "\n",
    "total_spend = [1120.20, 780.50, 510.75, 1480.30, 950.60, 630.90, 890.25, 1100.75, 780.40, 990.20]\n",
    "plt.hist(total_spend, bins=10, color='blue', edgecolor='black')\n",
    "plt.xlabel('Total Spend ($)')\n",
    "plt.ylabel('Frequency')\n",
    "plt.title('Histogram of Total Spend')\n",
    "plt.show()\n"
   ]
  },
  {
   "cell_type": "code",
   "execution_count": 32,
   "id": "c558d5f2",
   "metadata": {},
   "outputs": [
    {
     "data": {
      "image/png": "[encoded data removed]",
      "text/plain": [
       "<Figure size 432x288 with 1 Axes>"
      ]
     },
     "metadata": {
      "needs_background": "light"
     },
     "output_type": "display_data"
    }
   ],
   "source": [
    "total_spend = [1120.20, 780.50, 510.75, 1480.30, 950.60, 630.90, 890.25, 1100.75, 780.40, 990.20]\n",
    "plt.boxplot(total_spend)\n",
    "plt.xlabel('Total Spend')\n",
    "plt.ylabel('Amount ($)')\n",
    "plt.title('Boxplot of Total Spend')\n",
    "plt.show()\n"
   ]
  },
  {
   "cell_type": "code",
   "execution_count": 33,
   "id": "849ca0e8",
   "metadata": {},
   "outputs": [
    {
     "data": {
      "image/png": "[encoded data removed]",
      "text/plain": [
       "<Figure size 432x288 with 2 Axes>"
      ]
     },
     "metadata": {
      "needs_background": "light"
     },
     "output_type": "display_data"
    }
   ],
   "source": [
    "data = [\n",
    "    [1, 2, 3, 4],\n",
    "    [5, 6, 7, 8],\n",
    "    [9, 10, 11, 12],\n",
    "    [13, 14, 15, 16]\n",
    "]\n",
    "sns.heatmap(data, cmap='viridis', annot=True, fmt=\".1f\", linewidths=.5)\n",
    "plt.xlabel('X-axis Label')\n",
    "plt.ylabel('Y-axis Label')\n",
    "plt.title('Heatmap Example')\n",
    "plt.show()\n"
   ]
  },
  {
   "cell_type": "code",
   "execution_count": 34,
   "id": "bcc069c2",
   "metadata": {},
   "outputs": [
    {
     "name": "stdout",
     "output_type": "stream",
     "text": [
      "Column-wise mean: [ 7.  8.  9. 10.]\n",
      "Row-wise mean: [ 2.5  6.5 10.5 14.5]\n"
     ]
    }
   ],
   "source": [
    "data = [\n",
    "    [1, 2, 3, 4],\n",
    "    [5, 6, 7, 8],\n",
    "    [9, 10, 11, 12],\n",
    "    [13, 14, 15, 16]\n",
    "]\n",
    "data_array = np.array(data)\n",
    "column_means = np.mean(data_array, axis=0)\n",
    "row_means = np.mean(data_array, axis=1)\n",
    "print(\"Column-wise mean:\", column_means)\n",
    "print(\"Row-wise mean:\", row_means)\n"
   ]
  },
  {
   "cell_type": "code",
   "execution_count": 35,
   "id": "6d5bbae3",
   "metadata": {},
   "outputs": [
    {
     "name": "stdout",
     "output_type": "stream",
     "text": [
      "Overall median: 8.5\n"
     ]
    }
   ],
   "source": [
    "data = [\n",
    "    [1, 2, 3, 4],\n",
    "    [5, 6, 7, 8],\n",
    "    [9, 10, 11, 12],\n",
    "    [13, 14, 15, 16]\n",
    "]\n",
    "data_array = np.array(data)\n",
    "overall_median = np.median(data_array)\n",
    "print(\"Overall median:\", overall_median)\n"
   ]
  },
  {
   "cell_type": "code",
   "execution_count": 36,
   "id": "6437872c",
   "metadata": {},
   "outputs": [
    {
     "name": "stdout",
     "output_type": "stream",
     "text": [
      "Mode: 1\n",
      "Frequency: 1\n"
     ]
    }
   ],
   "source": [
    "from scipy import stats\n",
    "data = [\n",
    "    [1, 2, 3, 4],\n",
    "    [5, 6, 7, 8],\n",
    "    [9, 10, 11, 12],\n",
    "    [13, 14, 15, 16]\n",
    "]\n",
    "flat_data = [item for sublist in data for item in sublist]\n",
    "result = stats.mode(flat_data)\n",
    "print(\"Mode:\", result.mode[0])\n",
    "print(\"Frequency:\", result.count[0])\n"
   ]
  },
  {
   "cell_type": "code",
   "execution_count": 37,
   "id": "4ac2a61b",
   "metadata": {},
   "outputs": [
    {
     "name": "stdout",
     "output_type": "stream",
     "text": [
      "Column-wise variance: [20. 20. 20. 20.]\n",
      "Row-wise variance: [1.25 1.25 1.25 1.25]\n"
     ]
    }
   ],
   "source": [
    "data = [\n",
    "    [1, 2, 3, 4],\n",
    "    [5, 6, 7, 8],\n",
    "    [9, 10, 11, 12],\n",
    "    [13, 14, 15, 16]\n",
    "]\n",
    "data_array = np.array(data)\n",
    "column_variance = np.var(data_array, axis=0)\n",
    "row_variance = np.var(data_array, axis=1)\n",
    "print(\"Column-wise variance:\", column_variance)\n",
    "print(\"Row-wise variance:\", row_variance)\n"
   ]
  },
  {
   "cell_type": "code",
   "execution_count": 38,
   "id": "f39434a2",
   "metadata": {},
   "outputs": [
    {
     "name": "stdout",
     "output_type": "stream",
     "text": [
      "Column-wise standard deviation: [4.47213595 4.47213595 4.47213595 4.47213595]\n",
      "Row-wise standard deviation: [1.11803399 1.11803399 1.11803399 1.11803399]\n"
     ]
    }
   ],
   "source": [
    "data = [\n",
    "    [1, 2, 3, 4],\n",
    "    [5, 6, 7, 8],\n",
    "    [9, 10, 11, 12],\n",
    "    [13, 14, 15, 16]\n",
    "]\n",
    "data_array = np.array(data)\n",
    "column_std = np.std(data_array, axis=0)\n",
    "row_std = np.std(data_array, axis=1)\n",
    "print(\"Column-wise standard deviation:\", column_std)\n",
    "print(\"Row-wise standard deviation:\", row_std)\n"
   ]
  },
  {
   "cell_type": "code",
   "execution_count": 39,
   "id": "dfbc7229",
   "metadata": {},
   "outputs": [
    {
     "name": "stdout",
     "output_type": "stream",
     "text": [
      "Skewness: 0.0\n"
     ]
    }
   ],
   "source": [
    "from scipy.stats import skew\n",
    "data = [\n",
    "    [1, 2, 3, 4],\n",
    "    [5, 6, 7, 8],\n",
    "    [9, 10, 11, 12],\n",
    "    [13, 14, 15, 16]\n",
    "]\n",
    "flat_data = [item for sublist in data for item in sublist]\n",
    "result = skew(flat_data)\n",
    "print(\"Skewness:\", result)"
   ]
  },
  {
   "cell_type": "code",
   "execution_count": 40,
   "id": "6e1b3f60",
   "metadata": {},
   "outputs": [
    {
     "name": "stdout",
     "output_type": "stream",
     "text": [
      "Kurtosis: -1.2094117647058824\n"
     ]
    }
   ],
   "source": [
    "from scipy.stats import kurtosis\n",
    "data = [\n",
    "    [1, 2, 3, 4],\n",
    "    [5, 6, 7, 8],\n",
    "    [9, 10, 11, 12],\n",
    "    [13, 14, 15, 16]\n",
    "]\n",
    "flat_data = [item for sublist in data for item in sublist]\n",
    "result = kurtosis(flat_data)\n",
    "print(\"Kurtosis:\", result)"
   ]
  },
  {
   "cell_type": "code",
   "execution_count": 41,
   "id": "9257e9c4",
   "metadata": {},
   "outputs": [
    {
     "name": "stdout",
     "output_type": "stream",
     "text": [
      "Column-wise quartiles:\n",
      "25th percentile: [4. 5. 6. 7.]\n",
      "50th percentile (median): [ 7.  8.  9. 10.]\n",
      "75th percentile: [10. 11. 12. 13.]\n",
      "Column-wise interquartile range (IQR): [6. 6. 6. 6.]\n",
      "\n",
      "Row-wise quartiles:\n",
      "25th percentile: [1.75 2.5  3.25]\n",
      "50th percentile (median): [5.75 6.5  7.25]\n",
      "75th percentile: [ 9.75 10.5  11.25]\n",
      "Row-wise interquartile range (IQR): [8. 8. 8.]\n"
     ]
    }
   ],
   "source": [
    "data = [\n",
    "    [1, 2, 3, 4],\n",
    "    [5, 6, 7, 8],\n",
    "    [9, 10, 11, 12],\n",
    "    [13, 14, 15, 16]\n",
    "]\n",
    "data_array = np.array(data)\n",
    "column_quartiles = np.percentile(data_array, [25, 50, 75], axis=0)\n",
    "row_quartiles = np.percentile(data_array, [25, 50, 75], axis=1)\n",
    "column_iqr = np.subtract(column_quartiles[2, :], column_quartiles[0, :])\n",
    "row_iqr = np.subtract(row_quartiles[:, 2], row_quartiles[:, 0])\n",
    "\n",
    "print(\"Column-wise quartiles:\")\n",
    "print(\"25th percentile:\", column_quartiles[0, :])\n",
    "print(\"50th percentile (median):\", column_quartiles[1, :])\n",
    "print(\"75th percentile:\", column_quartiles[2, :])\n",
    "print(\"Column-wise interquartile range (IQR):\", column_iqr)\n",
    "\n",
    "print(\"\\nRow-wise quartiles:\")\n",
    "print(\"25th percentile:\", row_quartiles[:, 0])\n",
    "print(\"50th percentile (median):\", row_quartiles[:, 1])\n",
    "print(\"75th percentile:\", row_quartiles[:, 2])\n",
    "print(\"Row-wise interquartile range (IQR):\", row_iqr)\n"
   ]
  },
  {
   "cell_type": "code",
   "execution_count": 43,
   "id": "abdf23c4",
   "metadata": {},
   "outputs": [
    {
     "name": "stdout",
     "output_type": "stream",
     "text": [
      "Measures of Central Tendency:\n",
      "Mean: 31.5\n",
      "Median: 31.5\n",
      "Mode: 29\n",
      "\n",
      "Measures of Variability:\n",
      "Range: 5\n",
      "Variance: 12.5\n",
      "Standard Deviation: 3.5355339059327378\n",
      "IQR: 2.5\n",
      "\n",
      "Shape of the Distribution:\n",
      "Skewness: nan\n",
      "Kurtosis: nan\n"
     ]
    }
   ],
   "source": [
    "data = [\n",
    "    {'Customer ID': 101, 'Gender': 'Female', 'Age': 29, 'City': 'New York', 'Membership Type': 'Gold', 'Total Spend': 1120.20, 'Items Purchased': 14, 'Average Rating': 4.6, 'Discount Applied': True, 'Days Since Last Purchase': 25, 'Satisfaction Level': 'Satisfied'},\n",
    "    {'Customer ID': 102, 'Gender': 'Male', 'Age': 34, 'City': 'Los Angeles', 'Membership Type': 'Silver', 'Total Spend': 780.50, 'Items Purchased': 11, 'Average Rating': 4.1, 'Discount Applied': False, 'Days Since Last Purchase': 18, 'Satisfaction Level': 'Neutral'},   \n",
    "]\n",
    "ages = [entry['Age'] for entry in data]\n",
    "revenue = pd.Series(ages)\n",
    "\n",
    "mean = revenue.mean()\n",
    "median = revenue.median()\n",
    "mode = revenue.mode()[0]\n",
    "\n",
    "range_val = revenue.max() - revenue.min()\n",
    "variance = revenue.var()\n",
    "std_dev = revenue.std()\n",
    "q1 = revenue.quantile(0.25)\n",
    "q3 = revenue.quantile(0.75)\n",
    "iqr = q3 - q1\n",
    "\n",
    "skewness = revenue.skew()\n",
    "kurtosis = revenue.kurtosis()\n",
    "\n",
    "print(f\"Measures of Central Tendency:\")\n",
    "print(f\"Mean: {mean}\")\n",
    "print(f\"Median: {median}\")\n",
    "print(f\"Mode: {mode}\\n\")\n",
    "\n",
    "print(f\"Measures of Variability:\")\n",
    "print(f\"Range: {range_val}\")\n",
    "print(f\"Variance: {variance}\")\n",
    "print(f\"Standard Deviation: {std_dev}\")\n",
    "print(f\"IQR: {iqr}\\n\")\n",
    "\n",
    "print(f\"Shape of the Distribution:\")\n",
    "print(f\"Skewness: {skewness}\")\n",
    "print(f\"Kurtosis: {kurtosis}\")\n"
   ]
  },
  {
   "cell_type": "code",
   "execution_count": 48,
   "id": "ea32803a",
   "metadata": {},
   "outputs": [
    {
     "name": "stdout",
     "output_type": "stream",
     "text": [
      "Measures of Central Tendency:\n",
      "Mean: 950.35\n",
      "Median: 950.35\n",
      "Mode: 780.5\n",
      "\n",
      "Measures of Variability:\n",
      "Range: 339.70000000000005\n",
      "Variance: 57698.04500000001\n",
      "Standard Deviation: 240.2041735690702\n",
      "IQR: 169.85000000000014\n",
      "\n",
      "Shape of the Distribution:\n",
      "Skewness: nan\n",
      "Kurtosis: nan\n"
     ]
    }
   ],
   "source": [
    "data = [\n",
    "    {'Customer ID': 101, 'Gender': 'Female', 'Age': 29, 'City': 'New York', 'Membership Type': 'Gold', 'Total Spend': 1120.20, 'Items Purchased': 14, 'Average Rating': 4.6, 'Discount Applied': True, 'Days Since Last Purchase': 25, 'Satisfaction Level': 'Satisfied'},\n",
    "    {'Customer ID': 102, 'Gender': 'Male', 'Age': 34, 'City': 'Los Angeles', 'Membership Type': 'Silver', 'Total Spend': 780.50, 'Items Purchased': 11, 'Average Rating': 4.1, 'Discount Applied': False, 'Days Since Last Purchase': 18, 'Satisfaction Level': 'Neutral'},\n",
    "]\n",
    "df = pd.DataFrame(data)\n",
    "revenue = df['Total Spend']\n",
    "\n",
    "mean = revenue.mean()\n",
    "median = revenue.median()\n",
    "mode = revenue.mode()[0]\n",
    "\n",
    "range_val = revenue.max() - revenue.min()\n",
    "variance = revenue.var()\n",
    "std_dev = revenue.std()\n",
    "q1 = revenue.quantile(0.25)\n",
    "q3 = revenue.quantile(0.75)\n",
    "iqr = q3 - q1\n",
    "\n",
    "skewness = revenue.skew()\n",
    "kurtosis = revenue.kurtosis()\n",
    "\n",
    "print(f\"Measures of Central Tendency:\")\n",
    "print(f\"Mean: {mean}\")\n",
    "print(f\"Median: {median}\")\n",
    "print(f\"Mode: {mode}\\n\")\n",
    "\n",
    "print(f\"Measures of Variability:\")\n",
    "print(f\"Range: {range_val}\")\n",
    "print(f\"Variance: {variance}\")\n",
    "print(f\"Standard Deviation: {std_dev}\")\n",
    "print(f\"IQR: {iqr}\\n\")\n",
    "\n",
    "print(f\"Shape of the Distribution:\")\n",
    "print(f\"Skewness: {skewness}\")\n",
    "print(f\"Kurtosis: {kurtosis}\")\n"
   ]
  },
  {
   "cell_type": "code",
   "execution_count": 50,
   "id": "dc8ccec0",
   "metadata": {},
   "outputs": [
    {
     "name": "stdout",
     "output_type": "stream",
     "text": [
      "Measures of Central Tendency:\n",
      "Mean: 12.5\n",
      "Median: 12.5\n",
      "Mode: 11\n",
      "\n",
      "Measures of Variability:\n",
      "Range: 3\n",
      "Variance: 4.5\n",
      "Standard Deviation: 2.1213203435596424\n",
      "IQR: 1.5\n",
      "\n",
      "Shape of the Distribution:\n",
      "Skewness: nan\n",
      "Kurtosis: nan\n"
     ]
    }
   ],
   "source": [
    "data = [\n",
    "    {'Customer ID': 101, 'Gender': 'Female', 'Age': 29, 'City': 'New York', 'Membership Type': 'Gold', 'Total Spend': 1120.20, 'Items Purchased': 14, 'Average Rating': 4.6, 'Discount Applied': True, 'Days Since Last Purchase': 25, 'Satisfaction Level': 'Satisfied'},\n",
    "    {'Customer ID': 102, 'Gender': 'Male', 'Age': 34, 'City': 'Los Angeles', 'Membership Type': 'Silver', 'Total Spend': 780.50, 'Items Purchased': 11, 'Average Rating': 4.1, 'Discount Applied': False, 'Days Since Last Purchase': 18, 'Satisfaction Level': 'Neutral'},\n",
    "    \n",
    "]\n",
    "items_purchased = [entry['Items Purchased'] for entry in data]\n",
    "revenue = pd.Series(items_purchased)\n",
    "\n",
    "mean = revenue.mean()\n",
    "median = revenue.median()\n",
    "mode = revenue.mode()[0]\n",
    "\n",
    "range_val = revenue.max() - revenue.min()\n",
    "variance = revenue.var()\n",
    "std_dev = revenue.std()\n",
    "q1 = revenue.quantile(0.25)\n",
    "q3 = revenue.quantile(0.75)\n",
    "iqr = q3 - q1\n",
    "\n",
    "skewness = revenue.skew()\n",
    "kurtosis = revenue.kurtosis()\n",
    "\n",
    "print(f\"Measures of Central Tendency:\")\n",
    "print(f\"Mean: {mean}\")\n",
    "print(f\"Median: {median}\")\n",
    "print(f\"Mode: {mode}\\n\")\n",
    "\n",
    "print(f\"Measures of Variability:\")\n",
    "print(f\"Range: {range_val}\")\n",
    "print(f\"Variance: {variance}\")\n",
    "print(f\"Standard Deviation: {std_dev}\")\n",
    "print(f\"IQR: {iqr}\\n\")\n",
    "\n",
    "print(f\"Shape of the Distribution:\")\n",
    "print(f\"Skewness: {skewness}\")\n",
    "print(f\"Kurtosis: {kurtosis}\")\n"
   ]
  },
  {
   "cell_type": "code",
   "execution_count": 52,
   "id": "e4218c47",
   "metadata": {},
   "outputs": [
    {
     "name": "stdout",
     "output_type": "stream",
     "text": [
      "Measures of Central Tendency:\n",
      "Mean: 21.5\n",
      "Median: 21.5\n",
      "Mode: 18\n",
      "\n",
      "Measures of Variability:\n",
      "Range: 7\n",
      "Variance: 24.5\n",
      "Standard Deviation: 4.949747468305833\n",
      "IQR: 3.5\n",
      "\n",
      "Shape of the Distribution:\n",
      "Skewness: nan\n",
      "Kurtosis: nan\n"
     ]
    }
   ],
   "source": [
    "data = [\n",
    "    {'Customer ID': 101, 'Gender': 'Female', 'Age': 29, 'City': 'New York', 'Membership Type': 'Gold', 'Total Spend': 1120.20, 'Items Purchased': 14, 'Average Rating': 4.6, 'Discount Applied': True, 'Days Since Last Purchase': 25, 'Satisfaction Level': 'Satisfied'},\n",
    "    {'Customer ID': 102, 'Gender': 'Male', 'Age': 34, 'City': 'Los Angeles', 'Membership Type': 'Silver', 'Total Spend': 780.50, 'Items Purchased': 11, 'Average Rating': 4.1, 'Discount Applied': False, 'Days Since Last Purchase': 18, 'Satisfaction Level': 'Neutral'},\n",
    "]\n",
    "days_since_last_purchase = [entry['Days Since Last Purchase'] for entry in data]\n",
    "revenue = pd.Series(days_since_last_purchase)\n",
    "\n",
    "mean = revenue.mean()\n",
    "median = revenue.median()\n",
    "mode = revenue.mode()[0]\n",
    "\n",
    "range_val = revenue.max() - revenue.min()\n",
    "variance = revenue.var()\n",
    "std_dev = revenue.std()\n",
    "q1 = revenue.quantile(0.25)\n",
    "q3 = revenue.quantile(0.75)\n",
    "iqr = q3 - q1\n",
    "\n",
    "skewness = revenue.skew()\n",
    "kurtosis = revenue.kurtosis()\n",
    "\n",
    "print(f\"Measures of Central Tendency:\")\n",
    "print(f\"Mean: {mean}\")\n",
    "print(f\"Median: {median}\")\n",
    "print(f\"Mode: {mode}\\n\")\n",
    "\n",
    "print(f\"Measures of Variability:\")\n",
    "print(f\"Range: {range_val}\")\n",
    "print(f\"Variance: {variance}\")\n",
    "print(f\"Standard Deviation: {std_dev}\")\n",
    "print(f\"IQR: {iqr}\\n\")\n",
    "\n",
    "print(f\"Shape of the Distribution:\")\n",
    "print(f\"Skewness: {skewness}\")\n",
    "print(f\"Kurtosis: {kurtosis}\")\n"
   ]
  },
  {
   "cell_type": "code",
   "execution_count": 54,
   "id": "af7c614c",
   "metadata": {},
   "outputs": [
    {
     "name": "stdout",
     "output_type": "stream",
     "text": [
      "             Age  Total Spend  Items Purchased  Days Since Last Purchase  \\\n",
      "count   2.000000     2.000000          2.00000                  2.000000   \n",
      "mean   31.500000   950.350000         12.50000                 21.500000   \n",
      "std     3.535534   240.204174          2.12132                  4.949747   \n",
      "min    29.000000   780.500000         11.00000                 18.000000   \n",
      "25%    30.250000   865.425000         11.75000                 19.750000   \n",
      "50%    31.500000   950.350000         12.50000                 21.500000   \n",
      "75%    32.750000  1035.275000         13.25000                 23.250000   \n",
      "max    34.000000  1120.200000         14.00000                 25.000000   \n",
      "\n",
      "       Range  Variance  Standard Deviation  Skewness  Kurtosis  \n",
      "count    NaN       NaN                 NaN       NaN       NaN  \n",
      "mean     NaN       NaN                 NaN       NaN       NaN  \n",
      "std      NaN       NaN                 NaN       NaN       NaN  \n",
      "min      NaN       NaN                 NaN       NaN       NaN  \n",
      "25%      NaN       NaN                 NaN       NaN       NaN  \n",
      "50%      NaN       NaN                 NaN       NaN       NaN  \n",
      "75%      NaN       NaN                 NaN       NaN       NaN  \n",
      "max      NaN       NaN                 NaN       NaN       NaN  \n"
     ]
    }
   ],
   "source": [
    "data = [\n",
    "    {'Customer ID': 101, 'Gender': 'Female', 'Age': 29, 'City': 'New York', 'Membership Type': 'Gold', 'Total Spend': 1120.20, 'Items Purchased': 14, 'Average Rating': 4.6, 'Discount Applied': True, 'Days Since Last Purchase': 25, 'Satisfaction Level': 'Satisfied'},\n",
    "    {'Customer ID': 102, 'Gender': 'Male', 'Age': 34, 'City': 'Los Angeles', 'Membership Type': 'Silver', 'Total Spend': 780.50, 'Items Purchased': 11, 'Average Rating': 4.1, 'Discount Applied': False, 'Days Since Last Purchase': 18, 'Satisfaction Level': 'Neutral'},\n",
    "]\n",
    "df = pd.DataFrame(data)\n",
    "numerical_data = df[['Age', 'Total Spend', 'Items Purchased', 'Days Since Last Purchase']]\n",
    "statistics = numerical_data.describe()\n",
    "range_values = numerical_data.max() - numerical_data.min()\n",
    "variance = numerical_data.var()\n",
    "standard_deviation = numerical_data.std()\n",
    "skewness = numerical_data.skew()\n",
    "kurtosis = numerical_data.kurtosis()\n",
    "\n",
    "\n",
    "statistics['Range'] = range_values\n",
    "statistics['Variance'] = variance\n",
    "statistics['Standard Deviation'] = standard_deviation\n",
    "statistics['Skewness'] = skewness\n",
    "statistics['Kurtosis'] = kurtosis\n",
    "\n",
    "print(statistics)\n"
   ]
  },
  {
   "cell_type": "code",
   "execution_count": null,
   "id": "6fd5e16a",
   "metadata": {},
   "outputs": [],
   "source": []
  }
 ],
 "metadata": {
  "kernelspec": {
   "display_name": "Python 3 (ipykernel)",
   "language": "python",
   "name": "python3"
  },
  "language_info": {
   "codemirror_mode": {
    "name": "ipython",
    "version": 3
   },
   "file_extension": ".py",
   "mimetype": "text/x-python",
   "name": "python",
   "nbconvert_exporter": "python",
   "pygments_lexer": "ipython3",
   "version": "3.9.12"
  }
 },
 "nbformat": 4,
 "nbformat_minor": 5
}
